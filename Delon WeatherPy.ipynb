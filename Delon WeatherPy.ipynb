{
 "cells": [
  {
   "cell_type": "code",
   "execution_count": null,
   "id": "e39e6d43",
   "metadata": {},
   "outputs": [],
   "source": [
    "# Dependencies and Setup\n",
    "import matplotlib.pyplot as plt\n",
    "import pandas as pd\n",
    "import numpy as np\n",
    "import requests\n",
    "import time\n",
    "from scipy.stats import linregress\n",
    "import json\n",
    "\n",
    "\n",
    "# Impor the OpenWeatherMap API key\n",
    "from api_keys import weather_api_key\n",
    "\n",
    "# Import citipy to determine the cities based on latitude and longitude\n",
    "from citipy import citipy"
   ]
  },
  {
   "cell_type": "code",
   "execution_count": null,
   "id": "e7b0b765",
   "metadata": {},
   "outputs": [],
   "source": [
    "# Empty list for holding the latitude and longitude combinations\n",
    "lat_lngs = []\n",
    "\n",
    "# Empty list for holding the cities names\n",
    "cities = []\n",
    "\n",
    "# Range of latitudes and longitudes\n",
    "lat_range = (-90, 90)\n",
    "lng_range = (-180, 180)\n",
    "\n",
    "# Create a set of random lat and lng combinations\n",
    "lats = np.random.uniform(lat_range[0], lat_range[1], size=1500)\n",
    "lngs = np.random.uniform(lng_range[0], lng_range[1], size=1500)\n",
    "lat_lngs = zip(lats, lngs)\n",
    "\n",
    "# Identify nearest city for each lat, lng combination\n",
    "for lat_lng in lat_lngs:\n",
    "    \n",
    "    city = citipy.nearest_city(lat_lng[0], lat_lng[1]).city_name\n",
    "    \n",
    "    \n",
    "    # If the city is unique, then add it to a our cities list\n",
    "    if city not in cities:\n",
    "        cities.append(city)\n",
    "\n",
    "# Print the city count to confirm sufficient count\n",
    "print(f\"Number of cities in the list: {len(cities)}\")\n"
   ]
  },
  {
   "cell_type": "code",
   "execution_count": null,
   "id": "7dc24069",
   "metadata": {
    "scrolled": true
   },
   "outputs": [],
   "source": [
    "# Set the API base URL\n",
    "url = \"https://api.openweathermap.org/data/2.5/weather?\"\n",
    "\n",
    "# Define an empty list to fetch the weather data for each city\n",
    "city_data = []\n",
    "\n",
    "# Print to logger\n",
    "print(\"Beginning Data Retrieval     \")\n",
    "print(\"-----------------------------\")\n",
    "\n",
    "# Create counters\n",
    "record_count = 1\n",
    "set_count = 1\n",
    "\n",
    "# Loop through all the cities in our list to fetch weather data\n",
    "for i, city in enumerate(cities):\n",
    "        \n",
    "    # Group cities in sets of 50 for logging purposes\n",
    "    if (i % 50 == 0 and i >= 50):\n",
    "        set_count += 1\n",
    "        record_count = 0\n",
    "\n",
    "    # Create endpoint URL with each city\n",
    "    city_url = f\"q={city}&appid={weather_api_key}\"\n",
    "    api_url = url + city_url\n",
    "    print(api_url)\n",
    "    \n",
    "    # Log the url, record, and set numbers\n",
    "    print(\"Processing Record %s of Set %s | %s\" % (record_count, set_count, city))\n",
    "\n",
    "    # Add 1 to the record count\n",
    "    record_count += 1\n",
    "\n",
    "    # Run an API request for each of the cities\n",
    "    response = requests.get(api_url).json()\n",
    "    print(json.dumps(response, indent=4, sort_keys=True))\n",
    "\n",
    "    \n",
    "    \n",
    "# loop through each city in the list and make an API call\n",
    "    try:\n",
    "        city_lat = response[\"coord\"][\"lat\"]\n",
    "        city_lng = response[\"coord\"][\"lon\"]\n",
    "        city_max_temp = response[\"main\"][\"temp\"]\n",
    "        city_humidity = response[\"main\"][\"humidity\"]\n",
    "        city_clouds = response[\"clouds\"][\"all\"]\n",
    "        city_wind = response[\"wind\"][\"speed\"]\n",
    "        city_country = response[\"name\"]\n",
    "        city_date = response[\"dt\"]\n",
    "    \n",
    "    \n",
    "        # Append the City information into city_data list\n",
    "        city_data.append({\"City\": city, \n",
    "                          \"Lat\": city_lat, \n",
    "                          \"Lng\": city_lng, \n",
    "                          \"Max Temp\": city_max_temp,\n",
    "                          \"Humidity\": city_humidity,\n",
    "                          \"Cloudiness\": city_clouds,\n",
    "                          \"Wind Speed\": city_wind,\n",
    "                          \"Country\": city_country,\n",
    "                          \"Date\": city_date})\n",
    "\n",
    "\n",
    "    except:\n",
    "        print(f\"No data found for {city}. Skipping...\")\n",
    "\n",
    "# Print completion message\n",
    "print(city_data)\n",
    "print(\"-----------------------------\")\n",
    "print(\"Data Retrieval Complete      \")\n",
    "print(\"-----------------------------\")"
   ]
  },
  {
   "cell_type": "code",
   "execution_count": null,
   "id": "9f309137",
   "metadata": {},
   "outputs": [],
   "source": [
    "\n",
    "# Create scatter plot for Latitude vs. Temperature\n",
    "plt.scatter([data['Lat'] for data in city_data], [data['Max Temp'] for data in city_data])\n",
    "plt.xlabel('Latitude')\n",
    "plt.ylabel('Temperature (°F)')\n",
    "plt.title('City Latitude vs. Max Temperature')\n",
    "plt.grid(True)\n",
    "plt.show()\n",
    "\n",
    "# Create scatter plot for Latitude vs. Humidity\n",
    "plt.scatter([data['Lat'] for data in city_data], [data['Humidity'] for data in city_data])\n",
    "plt.xlabel('Latitude')\n",
    "plt.ylabel('Humidity (%)')\n",
    "plt.title('City Latitude vs. Humidity')\n",
    "plt.grid(True)\n",
    "plt.show()\n",
    "\n",
    "# Create scatter plot for Latitude vs. Cloudiness\n",
    "plt.scatter([data['Lat'] for data in city_data], [data['Cloudiness'] for data in city_data])\n",
    "plt.xlabel('Latitude')\n",
    "plt.ylabel('Cloudiness (%)')\n",
    "plt.title('City Latitude vs. Cloudiness')\n",
    "plt.grid(True)\n",
    "plt.show()\n",
    "\n",
    "# Create scatter plot for Latitude vs. Wind Speed\n",
    "plt.scatter([data['Lat'] for data in city_data], [data['Wind Speed'] for data in city_data])\n",
    "plt.xlabel('Latitude')\n",
    "plt.ylabel('Wind Speed (mph)')\n",
    "plt.title('City Latitude vs. Wind Speed')\n",
    "plt.grid(True)\n",
    "plt.show()\n"
   ]
  },
  {
   "cell_type": "code",
   "execution_count": null,
   "id": "78311ef2",
   "metadata": {},
   "outputs": [],
   "source": [
    "import matplotlib.pyplot as plt\n",
    "from scipy.stats import linregress\n",
    "\n",
    "# Define a function for creating scatter plots and linear regression\n",
    "def plot_scatter(x_values, y_values, x_label, y_label, title):\n",
    "    plt.scatter(x_values, y_values)\n",
    "    plt.xlabel(x_label)\n",
    "    plt.ylabel(y_label)\n",
    "    plt.title(title)\n",
    "    plt.grid(True)\n",
    "    \n",
    "    # Perform linear regression\n",
    "    (slope, intercept, rvalue, pvalue, stderr) = linregress(x_values, y_values)\n",
    "    \n",
    "    # Calculate regression values\n",
    "    x_array = np.array(x_values)\n",
    "    regress_values = x_array * slope + intercept\n",
    "    line_eq = \"y = \" + str(round(slope,2)) + \"x + \" + str(round(intercept,2))\n",
    "    \n",
    "    \n",
    "    # Plot regression line\n",
    "    plt.plot(x_values,regress_values,\"r-\")\n",
    "    \n",
    "    # Add equation to plot\n",
    "    plt.annotate(line_eq,(min(x_values),max(y_values)-20),fontsize=15,color=\"red\")\n",
    "    \n",
    "    # Print r value\n",
    "    print(f\"The r-value is: {rvalue}\")\n",
    "    \n",
    "    # Show plot\n",
    "    plt.show()"
   ]
  },
  {
   "cell_type": "code",
   "execution_count": null,
   "id": "f47e643d",
   "metadata": {},
   "outputs": [],
   "source": [
    "# Create function to plot scatter and linear regression for Southern Hemisphere\n",
    "def plot_southern(x_values, y_values, x_label, y_label, title):\n",
    "    # Filter data for Southern Hemisphere\n",
    "    southern_data = list(filter(lambda x: x['Lat'] < 0, city_data))\n",
    "    x_southern = [data['Lat'] for data in southern_data]\n",
    "    y_southern = [data[y_values] for data in southern_data]\n",
    "    \n",
    "    # Call plot_scatter function to create scatter plot and linear regression\n",
    "    plot_scatter(x_southern, y_southern, x_label, y_label, title)"
   ]
  },
  {
   "cell_type": "markdown",
   "id": "7cbf0f3a",
   "metadata": {},
   "source": [
    "# Southern vs Northern Latitude vs Max Temperature"
   ]
  },
  {
   "cell_type": "code",
   "execution_count": null,
   "id": "29dc1225",
   "metadata": {},
   "outputs": [],
   "source": [
    "# Create scatter plot and linear regression for Latitude vs. Temperature\n",
    "plot_scatter([data[\"Lat\"] for data in city_data], [data[\"Max Temp\"] for data in city_data], \"Latitude\", \"Temperature (°F)\", \"City Latitude vs. Max Temperature (Northern Hemisphere)\")\n",
    "\n"
   ]
  },
  {
   "cell_type": "code",
   "execution_count": null,
   "id": "a62e5fde",
   "metadata": {
    "scrolled": true
   },
   "outputs": [],
   "source": [
    "# Create scatter plot and linear regression for Latitude vs. Temperature in Southern Hemisphere\n",
    "plot_southern('Lat', 'Max Temp', 'Latitude', 'Temperature (°F)', 'City Latitude vs. Max Temperature (Southern Hemisphere)')\n"
   ]
  },
  {
   "cell_type": "markdown",
   "id": "4058563a",
   "metadata": {},
   "source": [
    "linear regression analysis\n",
    "\n",
    "For the Northern hemisphere the negative slope of the linear regression line shows that as latitude increases, the maximum temperature decreases. For the Southern Hemisphere, the positive slope of the linear regression line indicates that as latitude decreases, the maximum temperature tends to increase."
   ]
  },
  {
   "cell_type": "markdown",
   "id": "6ee53712",
   "metadata": {},
   "source": [
    "# Southern vs Northern Latitude vs Humidity"
   ]
  },
  {
   "cell_type": "code",
   "execution_count": null,
   "id": "9e0898ee",
   "metadata": {
    "scrolled": true
   },
   "outputs": [],
   "source": [
    "# Create scatter plot and linear regression for Latitude vs. Humidity\n",
    "plot_scatter([data[\"Lat\"] for data in city_data], [data[\"Humidity\"] for data in city_data], \"Latitude\", \"Humidity (%)\", \"City Latitude vs. Humidity Northern Hemisphere\")\n",
    "\n"
   ]
  },
  {
   "cell_type": "code",
   "execution_count": null,
   "id": "f64e2349",
   "metadata": {},
   "outputs": [],
   "source": [
    "# Create scatter plot and linear regression for Latitude vs. Humidity in Southern Hemisphere\n",
    "plot_southern('Lat', 'Humidity', 'Latitude', 'Humidity (%)', 'City Latitude vs. Humidity (Southern Hemisphere)')\n"
   ]
  },
  {
   "cell_type": "markdown",
   "id": "84e53791",
   "metadata": {},
   "source": [
    "There is no significant correlation between humidity and latitude in either the Northern or southern Hemispheres. The linear regression for this relationship shows a weak negative correlation."
   ]
  },
  {
   "cell_type": "markdown",
   "id": "989b9092",
   "metadata": {},
   "source": [
    "# Southern vs Northern Latitude vs Cloudiness"
   ]
  },
  {
   "cell_type": "code",
   "execution_count": null,
   "id": "d0b46d79",
   "metadata": {
    "scrolled": true
   },
   "outputs": [],
   "source": [
    "# Create scatter plot and linear regression for Latitude vs. Cloudiness\n",
    "plot_scatter([data[\"Lat\"] for data in city_data], [data[\"Cloudiness\"] for data in city_data], \"Latitude\", \"Cloudiness (%)\", \"City Latitude vs. Cloudiness (Northern Hemisphere)\")\n",
    "\n"
   ]
  },
  {
   "cell_type": "code",
   "execution_count": null,
   "id": "30422720",
   "metadata": {
    "scrolled": true
   },
   "outputs": [],
   "source": [
    "# Create scatter plot and linear regression for Latitude vs. Cloudiness in Southern Hemisphere\n",
    "plot_southern('Lat', 'Cloudiness', 'Latitude', 'Cloudiness (%)', 'City Latitude vs. Cloudiness (Southern Hemisphere)')\n",
    "\n"
   ]
  },
  {
   "cell_type": "markdown",
   "id": "86a9164c",
   "metadata": {},
   "source": [
    "Both the southern and northern hemispheres have weak positive correlations in this linear regression."
   ]
  },
  {
   "cell_type": "markdown",
   "id": "e7ed104f",
   "metadata": {},
   "source": [
    "# Southern vs Northern Latitude vs Wind Speed"
   ]
  },
  {
   "cell_type": "code",
   "execution_count": null,
   "id": "2b5c0a0a",
   "metadata": {},
   "outputs": [],
   "source": [
    "# Create scatter plot and linear regression for Latitude vs. Wind Speed\n",
    "plot_scatter([data[\"Lat\"] for data in city_data], [data[\"Wind Speed\"] for data in city_data], \"Latitude\", \"Wind Speed (mph)\", \"City Latitude vs. Wind Speed (Northern Hemisphere)\")\n"
   ]
  },
  {
   "cell_type": "code",
   "execution_count": null,
   "id": "37e2be8b",
   "metadata": {},
   "outputs": [],
   "source": [
    "\n",
    "# Create scatter plot and linear regression for Latitude vs. Wind Speed in Southern Hemisphere\n",
    "plot_southern('Lat', 'Wind Speed', 'Latitude', 'Wind Speed (mph)', 'City Latitude vs. Wind Speed (Southern Hemisphere)')\n",
    "\n",
    "\n",
    "\n"
   ]
  },
  {
   "cell_type": "markdown",
   "id": "bd94520f",
   "metadata": {},
   "source": [
    "The linear regression for this relationship shows a weak positive correlation for both the Northern and southern hemispheres."
   ]
  },
  {
   "cell_type": "code",
   "execution_count": null,
   "id": "ee1eb733",
   "metadata": {},
   "outputs": [],
   "source": [
    "import csv\n",
    "\n",
    "# Open a new CSV file to write data\n",
    "with open('city_data.csv', mode='w', newline='') as csv_file:\n",
    "\n",
    "    # Define the fieldnames for the CSV file\n",
    "    fieldnames = ['City', 'Lat', 'Lng', 'Max Temp', 'Humidity', 'Cloudiness', 'Wind Speed', 'Country', 'Date']\n",
    "\n",
    "    # Create a CSV writer object\n",
    "    writer = csv.DictWriter(csv_file, fieldnames=fieldnames)\n",
    "\n",
    "    # Write the header row to the CSV file\n",
    "    writer.writeheader()\n",
    "\n",
    "    # Write each row of data to the CSV file\n",
    "    for data in city_data:\n",
    "        writer.writerow(data)\n"
   ]
  },
  {
   "cell_type": "code",
   "execution_count": null,
   "id": "e9750eb5",
   "metadata": {},
   "outputs": [],
   "source": []
  },
  {
   "cell_type": "code",
   "execution_count": null,
   "id": "60910224",
   "metadata": {},
   "outputs": [],
   "source": []
  },
  {
   "cell_type": "code",
   "execution_count": null,
   "id": "a2f326d8",
   "metadata": {},
   "outputs": [],
   "source": []
  },
  {
   "cell_type": "code",
   "execution_count": null,
   "id": "cf4fb735",
   "metadata": {},
   "outputs": [],
   "source": []
  },
  {
   "cell_type": "code",
   "execution_count": null,
   "id": "01d682db",
   "metadata": {},
   "outputs": [],
   "source": []
  },
  {
   "cell_type": "code",
   "execution_count": null,
   "id": "891d9f98",
   "metadata": {},
   "outputs": [],
   "source": []
  }
 ],
 "metadata": {
  "kernelspec": {
   "display_name": "Python 3 (ipykernel)",
   "language": "python",
   "name": "python3"
  },
  "language_info": {
   "codemirror_mode": {
    "name": "ipython",
    "version": 3
   },
   "file_extension": ".py",
   "mimetype": "text/x-python",
   "name": "python",
   "nbconvert_exporter": "python",
   "pygments_lexer": "ipython3",
   "version": "3.10.10"
  }
 },
 "nbformat": 4,
 "nbformat_minor": 5
}
